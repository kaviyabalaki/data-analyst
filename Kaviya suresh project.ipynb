{
 "cells": [
  {
   "cell_type": "code",
   "execution_count": 2,
   "id": "7e17c101-2260-4b31-a175-4feec38de5da",
   "metadata": {},
   "outputs": [],
   "source": [
    "import pandas as pd\n",
    "import numpy as np\n",
    "import matplotlib.pyplot as plt\n",
    "import seaborn as sns\n",
    "import warnings\n",
    "warnings.filterwarnings('ignore')\n"
   ]
  },
  {
   "cell_type": "code",
   "execution_count": 3,
   "id": "f3d3878c-25bc-440d-90b1-7e7b0e40d28b",
   "metadata": {},
   "outputs": [
    {
     "data": {
      "text/html": [
       "<div>\n",
       "<style scoped>\n",
       "    .dataframe tbody tr th:only-of-type {\n",
       "        vertical-align: middle;\n",
       "    }\n",
       "\n",
       "    .dataframe tbody tr th {\n",
       "        vertical-align: top;\n",
       "    }\n",
       "\n",
       "    .dataframe thead th {\n",
       "        text-align: right;\n",
       "    }\n",
       "</style>\n",
       "<table border=\"1\" class=\"dataframe\">\n",
       "  <thead>\n",
       "    <tr style=\"text-align: right;\">\n",
       "      <th></th>\n",
       "      <th>Id</th>\n",
       "      <th>Maker</th>\n",
       "      <th>model</th>\n",
       "      <th>Location</th>\n",
       "      <th>Distance</th>\n",
       "      <th>Owner Type</th>\n",
       "      <th>manufacture_year</th>\n",
       "      <th>Age of car</th>\n",
       "      <th>engine_displacement</th>\n",
       "      <th>engine_power</th>\n",
       "      <th>body_type</th>\n",
       "      <th>Vroom Audit Rating</th>\n",
       "      <th>transmission</th>\n",
       "      <th>door_count</th>\n",
       "      <th>seat_count</th>\n",
       "      <th>fuel_type</th>\n",
       "      <th>Price</th>\n",
       "    </tr>\n",
       "  </thead>\n",
       "  <tbody>\n",
       "    <tr>\n",
       "      <th>0</th>\n",
       "      <td>25001</td>\n",
       "      <td>skoda</td>\n",
       "      <td>octavia</td>\n",
       "      <td>Ahmedabad</td>\n",
       "      <td>NaN</td>\n",
       "      <td>Second</td>\n",
       "      <td>1964</td>\n",
       "      <td>55</td>\n",
       "      <td>1964</td>\n",
       "      <td>147.0</td>\n",
       "      <td>compact</td>\n",
       "      <td>8</td>\n",
       "      <td>man</td>\n",
       "      <td>NaN</td>\n",
       "      <td>NaN</td>\n",
       "      <td>petrol</td>\n",
       "      <td>543764.25</td>\n",
       "    </tr>\n",
       "    <tr>\n",
       "      <th>1</th>\n",
       "      <td>25002</td>\n",
       "      <td>fiat</td>\n",
       "      <td>panda</td>\n",
       "      <td>Ahmedabad</td>\n",
       "      <td>27750.0</td>\n",
       "      <td>Third</td>\n",
       "      <td>2012</td>\n",
       "      <td>7</td>\n",
       "      <td>1242</td>\n",
       "      <td>51.0</td>\n",
       "      <td>NaN</td>\n",
       "      <td>6</td>\n",
       "      <td>man</td>\n",
       "      <td>4.0</td>\n",
       "      <td>4.0</td>\n",
       "      <td>petrol</td>\n",
       "      <td>401819.25</td>\n",
       "    </tr>\n",
       "    <tr>\n",
       "      <th>2</th>\n",
       "      <td>25003</td>\n",
       "      <td>bmw</td>\n",
       "      <td>x1</td>\n",
       "      <td>Hyderabad</td>\n",
       "      <td>46000.0</td>\n",
       "      <td>Third</td>\n",
       "      <td>2014</td>\n",
       "      <td>5</td>\n",
       "      <td>1995</td>\n",
       "      <td>105.0</td>\n",
       "      <td>NaN</td>\n",
       "      <td>7</td>\n",
       "      <td>auto</td>\n",
       "      <td>4.0</td>\n",
       "      <td>5.0</td>\n",
       "      <td>diesel</td>\n",
       "      <td>2392855.50</td>\n",
       "    </tr>\n",
       "    <tr>\n",
       "      <th>3</th>\n",
       "      <td>25004</td>\n",
       "      <td>nissan</td>\n",
       "      <td>juke</td>\n",
       "      <td>Mumbai</td>\n",
       "      <td>43949.0</td>\n",
       "      <td>Third</td>\n",
       "      <td>2011</td>\n",
       "      <td>8</td>\n",
       "      <td>1618</td>\n",
       "      <td>140.0</td>\n",
       "      <td>NaN</td>\n",
       "      <td>7</td>\n",
       "      <td>man</td>\n",
       "      <td>4.0</td>\n",
       "      <td>5.0</td>\n",
       "      <td>petrol</td>\n",
       "      <td>958606.50</td>\n",
       "    </tr>\n",
       "    <tr>\n",
       "      <th>4</th>\n",
       "      <td>25005</td>\n",
       "      <td>bmw</td>\n",
       "      <td>x5</td>\n",
       "      <td>Jaipur</td>\n",
       "      <td>59524.0</td>\n",
       "      <td>Fourth &amp; Above</td>\n",
       "      <td>2012</td>\n",
       "      <td>7</td>\n",
       "      <td>2993</td>\n",
       "      <td>180.0</td>\n",
       "      <td>NaN</td>\n",
       "      <td>7</td>\n",
       "      <td>auto</td>\n",
       "      <td>4.0</td>\n",
       "      <td>5.0</td>\n",
       "      <td>diesel</td>\n",
       "      <td>3085561.50</td>\n",
       "    </tr>\n",
       "    <tr>\n",
       "      <th>...</th>\n",
       "      <td>...</td>\n",
       "      <td>...</td>\n",
       "      <td>...</td>\n",
       "      <td>...</td>\n",
       "      <td>...</td>\n",
       "      <td>...</td>\n",
       "      <td>...</td>\n",
       "      <td>...</td>\n",
       "      <td>...</td>\n",
       "      <td>...</td>\n",
       "      <td>...</td>\n",
       "      <td>...</td>\n",
       "      <td>...</td>\n",
       "      <td>...</td>\n",
       "      <td>...</td>\n",
       "      <td>...</td>\n",
       "      <td>...</td>\n",
       "    </tr>\n",
       "    <tr>\n",
       "      <th>53510</th>\n",
       "      <td>78511</td>\n",
       "      <td>skoda</td>\n",
       "      <td>octavia</td>\n",
       "      <td>Delhi</td>\n",
       "      <td>29334.0</td>\n",
       "      <td>Fourth &amp; Above</td>\n",
       "      <td>2014</td>\n",
       "      <td>5</td>\n",
       "      <td>1598</td>\n",
       "      <td>77.0</td>\n",
       "      <td>NaN</td>\n",
       "      <td>4</td>\n",
       "      <td>man</td>\n",
       "      <td>4.0</td>\n",
       "      <td>5.0</td>\n",
       "      <td>diesel</td>\n",
       "      <td>1342996.50</td>\n",
       "    </tr>\n",
       "    <tr>\n",
       "      <th>53511</th>\n",
       "      <td>78512</td>\n",
       "      <td>skoda</td>\n",
       "      <td>octavia</td>\n",
       "      <td>Bangalore</td>\n",
       "      <td>223631.0</td>\n",
       "      <td>Fourth &amp; Above</td>\n",
       "      <td>2009</td>\n",
       "      <td>10</td>\n",
       "      <td>1900</td>\n",
       "      <td>77.0</td>\n",
       "      <td>NaN</td>\n",
       "      <td>8</td>\n",
       "      <td>man</td>\n",
       "      <td>5.0</td>\n",
       "      <td>5.0</td>\n",
       "      <td>diesel</td>\n",
       "      <td>510732.75</td>\n",
       "    </tr>\n",
       "    <tr>\n",
       "      <th>53512</th>\n",
       "      <td>78513</td>\n",
       "      <td>bmw</td>\n",
       "      <td>x1</td>\n",
       "      <td>Pune</td>\n",
       "      <td>25500.0</td>\n",
       "      <td>Third</td>\n",
       "      <td>2015</td>\n",
       "      <td>4</td>\n",
       "      <td>1995</td>\n",
       "      <td>105.0</td>\n",
       "      <td>NaN</td>\n",
       "      <td>4</td>\n",
       "      <td>auto</td>\n",
       "      <td>4.0</td>\n",
       "      <td>5.0</td>\n",
       "      <td>diesel</td>\n",
       "      <td>2008123.50</td>\n",
       "    </tr>\n",
       "    <tr>\n",
       "      <th>53513</th>\n",
       "      <td>78514</td>\n",
       "      <td>toyota</td>\n",
       "      <td>avensis</td>\n",
       "      <td>Jaipur</td>\n",
       "      <td>1195500.0</td>\n",
       "      <td>Third</td>\n",
       "      <td>2011</td>\n",
       "      <td>8</td>\n",
       "      <td>11950</td>\n",
       "      <td>93.0</td>\n",
       "      <td>compact</td>\n",
       "      <td>5</td>\n",
       "      <td>man</td>\n",
       "      <td>NaN</td>\n",
       "      <td>NaN</td>\n",
       "      <td>diesel</td>\n",
       "      <td>874352.25</td>\n",
       "    </tr>\n",
       "    <tr>\n",
       "      <th>53514</th>\n",
       "      <td>78515</td>\n",
       "      <td>bmw</td>\n",
       "      <td>x5</td>\n",
       "      <td>Kochi</td>\n",
       "      <td>142000.0</td>\n",
       "      <td>First</td>\n",
       "      <td>2008</td>\n",
       "      <td>11</td>\n",
       "      <td>2993</td>\n",
       "      <td>173.0</td>\n",
       "      <td>NaN</td>\n",
       "      <td>4</td>\n",
       "      <td>auto</td>\n",
       "      <td>5.0</td>\n",
       "      <td>5.0</td>\n",
       "      <td>diesel</td>\n",
       "      <td>1576610.25</td>\n",
       "    </tr>\n",
       "  </tbody>\n",
       "</table>\n",
       "<p>53515 rows × 17 columns</p>\n",
       "</div>"
      ],
      "text/plain": [
       "          Id   Maker    model   Location  Distance       Owner Type  \\\n",
       "0      25001   skoda  octavia  Ahmedabad        NaN          Second   \n",
       "1      25002    fiat    panda  Ahmedabad    27750.0           Third   \n",
       "2      25003     bmw       x1  Hyderabad    46000.0           Third   \n",
       "3      25004  nissan     juke     Mumbai    43949.0           Third   \n",
       "4      25005     bmw       x5     Jaipur    59524.0  Fourth & Above   \n",
       "...      ...     ...      ...        ...        ...             ...   \n",
       "53510  78511   skoda  octavia      Delhi    29334.0  Fourth & Above   \n",
       "53511  78512   skoda  octavia  Bangalore   223631.0  Fourth & Above   \n",
       "53512  78513     bmw       x1       Pune    25500.0           Third   \n",
       "53513  78514  toyota  avensis     Jaipur  1195500.0           Third   \n",
       "53514  78515     bmw       x5      Kochi   142000.0           First   \n",
       "\n",
       "       manufacture_year  Age of car  engine_displacement  engine_power  \\\n",
       "0                  1964          55                 1964         147.0   \n",
       "1                  2012           7                 1242          51.0   \n",
       "2                  2014           5                 1995         105.0   \n",
       "3                  2011           8                 1618         140.0   \n",
       "4                  2012           7                 2993         180.0   \n",
       "...                 ...         ...                  ...           ...   \n",
       "53510              2014           5                 1598          77.0   \n",
       "53511              2009          10                 1900          77.0   \n",
       "53512              2015           4                 1995         105.0   \n",
       "53513              2011           8                11950          93.0   \n",
       "53514              2008          11                 2993         173.0   \n",
       "\n",
       "      body_type  Vroom Audit Rating transmission  door_count  seat_count  \\\n",
       "0       compact                   8          man         NaN         NaN   \n",
       "1           NaN                   6          man         4.0         4.0   \n",
       "2           NaN                   7         auto         4.0         5.0   \n",
       "3           NaN                   7          man         4.0         5.0   \n",
       "4           NaN                   7         auto         4.0         5.0   \n",
       "...         ...                 ...          ...         ...         ...   \n",
       "53510       NaN                   4          man         4.0         5.0   \n",
       "53511       NaN                   8          man         5.0         5.0   \n",
       "53512       NaN                   4         auto         4.0         5.0   \n",
       "53513   compact                   5          man         NaN         NaN   \n",
       "53514       NaN                   4         auto         5.0         5.0   \n",
       "\n",
       "      fuel_type       Price  \n",
       "0        petrol   543764.25  \n",
       "1        petrol   401819.25  \n",
       "2        diesel  2392855.50  \n",
       "3        petrol   958606.50  \n",
       "4        diesel  3085561.50  \n",
       "...         ...         ...  \n",
       "53510    diesel  1342996.50  \n",
       "53511    diesel   510732.75  \n",
       "53512    diesel  2008123.50  \n",
       "53513    diesel   874352.25  \n",
       "53514    diesel  1576610.25  \n",
       "\n",
       "[53515 rows x 17 columns]"
      ]
     },
     "execution_count": 3,
     "metadata": {},
     "output_type": "execute_result"
    }
   ],
   "source": [
    "df=pd.read_csv('Training_Data_Set.csv')\n",
    "df"
   ]
  },
  {
   "cell_type": "code",
   "execution_count": 4,
   "id": "63a9eeed-a9ea-4a21-a17c-981bc9bd67b9",
   "metadata": {},
   "outputs": [
    {
     "data": {
      "text/plain": [
       "Index(['Id', 'Maker', 'model', 'Location', 'Distance ', 'Owner Type',\n",
       "       'manufacture_year', 'Age of car', 'engine_displacement', 'engine_power',\n",
       "       'body_type', 'Vroom Audit Rating', 'transmission', 'door_count',\n",
       "       'seat_count', 'fuel_type', 'Price'],\n",
       "      dtype='object')"
      ]
     },
     "execution_count": 4,
     "metadata": {},
     "output_type": "execute_result"
    }
   ],
   "source": [
    "df.columns"
   ]
  },
  {
   "cell_type": "code",
   "execution_count": 5,
   "id": "f7bc687e-90c5-48ac-b689-18d51c30224e",
   "metadata": {},
   "outputs": [
    {
     "data": {
      "text/plain": [
       "(53515, 17)"
      ]
     },
     "execution_count": 5,
     "metadata": {},
     "output_type": "execute_result"
    }
   ],
   "source": [
    "df.shape"
   ]
  },
  {
   "cell_type": "code",
   "execution_count": 6,
   "id": "01c06c5b-9004-477e-a377-5c5c0deae785",
   "metadata": {},
   "outputs": [
    {
     "data": {
      "text/plain": [
       "Id                         0\n",
       "Maker                      0\n",
       "model                      0\n",
       "Location                   0\n",
       "Distance                1211\n",
       "Owner Type                 0\n",
       "manufacture_year           0\n",
       "Age of car                 0\n",
       "engine_displacement        0\n",
       "engine_power            1439\n",
       "body_type              49379\n",
       "Vroom Audit Rating         0\n",
       "transmission               0\n",
       "door_count              7534\n",
       "seat_count              8511\n",
       "fuel_type                  0\n",
       "Price                      0\n",
       "dtype: int64"
      ]
     },
     "execution_count": 6,
     "metadata": {},
     "output_type": "execute_result"
    }
   ],
   "source": [
    "df.isnull().sum()"
   ]
  },
  {
   "cell_type": "code",
   "execution_count": 7,
   "id": "38faa24d-f679-47f8-9f2b-76a42dc3f825",
   "metadata": {},
   "outputs": [],
   "source": [
    "df.drop(columns='body_type',inplace=True)"
   ]
  },
  {
   "cell_type": "code",
   "execution_count": 8,
   "id": "d49ca8ba-b70a-48cc-a6d7-898927f521da",
   "metadata": {},
   "outputs": [],
   "source": [
    "df['Distance '].fillna(df['Distance '].median(),inplace=True)\n",
    "df['engine_power'].fillna(df['engine_power'].median(),inplace=True)\n",
    "df['door_count'].fillna(df['door_count'].mode()[0],inplace=True)\n",
    "df['seat_count'].fillna(df['seat_count'].mean(),inplace=True)"
   ]
  },
  {
   "cell_type": "code",
   "execution_count": 9,
   "id": "ef1be0e5-e833-427e-a75d-7deafc190f6d",
   "metadata": {},
   "outputs": [
    {
     "data": {
      "image/png": "[encoded data removed]",
      "text/plain": [
       "<Figure size 1100x1300 with 1 Axes>"
      ]
     },
     "metadata": {},
     "output_type": "display_data"
    }
   ],
   "source": [
    "df.boxplot(fontsize=5,figsize=(11,13))\n",
    "plt.show()"
   ]
  },
  {
   "cell_type": "code",
   "execution_count": 10,
   "id": "48ea65ff-8dfe-48d8-8efc-44d755f7daac",
   "metadata": {},
   "outputs": [],
   "source": [
    "df_cat=df.select_dtypes(include=object)\n",
    "df_num=df.select_dtypes(exclude=object)"
   ]
  },
  {
   "cell_type": "code",
   "execution_count": 11,
   "id": "171a8da5-512b-4c1b-8d48-e5342ebbf29d",
   "metadata": {},
   "outputs": [
    {
     "data": {
      "text/plain": [
       "Id                       int64\n",
       "Distance               float64\n",
       "manufacture_year         int64\n",
       "Age of car               int64\n",
       "engine_displacement      int64\n",
       "engine_power           float64\n",
       "Vroom Audit Rating       int64\n",
       "door_count             float64\n",
       "seat_count             float64\n",
       "Price                  float64\n",
       "dtype: object"
      ]
     },
     "execution_count": 11,
     "metadata": {},
     "output_type": "execute_result"
    }
   ],
   "source": [
    "df_num.dtypes"
   ]
  },
  {
   "cell_type": "code",
   "execution_count": 12,
   "id": "733f579b-e739-4946-8c2b-a8778f24d1aa",
   "metadata": {},
   "outputs": [],
   "source": [
    "df_num=df_num.astype(int)"
   ]
  },
  {
   "cell_type": "code",
   "execution_count": 13,
   "id": "e86a5199-48ef-407a-9de9-e8766e4c853d",
   "metadata": {},
   "outputs": [
    {
     "data": {
      "text/plain": [
       "Maker           object\n",
       "model           object\n",
       "Location        object\n",
       "Owner Type      object\n",
       "transmission    object\n",
       "fuel_type       object\n",
       "dtype: object"
      ]
     },
     "execution_count": 13,
     "metadata": {},
     "output_type": "execute_result"
    }
   ],
   "source": [
    "df_cat.dtypes"
   ]
  },
  {
   "cell_type": "code",
   "execution_count": 14,
   "id": "cd11b385-3ee1-4994-b830-4a7f66994eb0",
   "metadata": {},
   "outputs": [],
   "source": [
    "from sklearn.preprocessing import LabelEncoder\n",
    "le=LabelEncoder()"
   ]
  },
  {
   "cell_type": "code",
   "execution_count": 15,
   "id": "7de06740-3b7e-4542-910e-dc924cd66151",
   "metadata": {},
   "outputs": [],
   "source": [
    "df_cat['Maker']=le.fit_transform(df_cat['Maker'])\n",
    "df_cat['model']=le.fit_transform(df_cat['model'])\n",
    "df_cat['Location']=le.fit_transform(df_cat['Location'])\n",
    "df_cat['Owner Type']=le.fit_transform(df_cat['Owner Type'])\n",
    "df_cat['transmission']=le.fit_transform(df_cat['transmission'])\n",
    "df_cat['fuel_type']=le.fit_transform(df_cat['fuel_type'])"
   ]
  },
  {
   "cell_type": "code",
   "execution_count": 16,
   "id": "1c5526aa-5544-4327-b1b2-a86aa34e3796",
   "metadata": {},
   "outputs": [],
   "source": [
    "df=pd.concat([df_cat,df_num],axis=1)"
   ]
  },
  {
   "cell_type": "code",
   "execution_count": 17,
   "id": "85231df0-515d-47cb-ac20-42911b96d72c",
   "metadata": {},
   "outputs": [
    {
     "data": {
      "image/png": "[encoded data removed]",
      "text/plain": [
       "<Figure size 1500x1200 with 1 Axes>"
      ]
     },
     "metadata": {},
     "output_type": "display_data"
    }
   ],
   "source": [
    "df.boxplot(figsize=(15,12),fontsize=6)\n",
    "plt.show()"
   ]
  },
  {
   "cell_type": "code",
   "execution_count": 18,
   "id": "bf380d92-42d9-48ae-8c8e-ef4cb83abc5f",
   "metadata": {},
   "outputs": [],
   "source": [
    "q1=df['Distance '].quantile(0.25)\n",
    "q3=df['Distance '].quantile(0.75)\n",
    "iqr=q3-q1\n",
    "LL=q1-1.5*iqr\n",
    "Ul=q3+1.5*iqr"
   ]
  },
  {
   "cell_type": "code",
   "execution_count": 19,
   "id": "7bb15523-0b27-469b-b8fb-fc9dd1a9f8e5",
   "metadata": {},
   "outputs": [],
   "source": [
    "df_outlier=df[['Distance ']][(df['Distance ']>LL)&(df['Distance ']<Ul)]"
   ]
  },
  {
   "cell_type": "code",
   "execution_count": 20,
   "id": "51395048-2ded-42f5-b8e9-f107698300ec",
   "metadata": {},
   "outputs": [
    {
     "data": {
      "text/plain": [
       "Distance     0\n",
       "dtype: int64"
      ]
     },
     "execution_count": 20,
     "metadata": {},
     "output_type": "execute_result"
    }
   ],
   "source": [
    "df_outlier.isnull().sum()"
   ]
  },
  {
   "cell_type": "code",
   "execution_count": 21,
   "id": "b55f2d85-46e8-49e8-8978-65143a87efb7",
   "metadata": {},
   "outputs": [
    {
     "data": {
      "image/png": "[encoded data removed]",
      "text/plain": [
       "<Figure size 640x480 with 1 Axes>"
      ]
     },
     "metadata": {},
     "output_type": "display_data"
    }
   ],
   "source": [
    "df_outlier.boxplot()\n",
    "plt.show()"
   ]
  },
  {
   "cell_type": "code",
   "execution_count": 22,
   "id": "aac1c90c-107d-4738-b99e-052f780706b8",
   "metadata": {},
   "outputs": [],
   "source": [
    "q1=df_outlier.quantile(0.25)\n",
    "q3=df_outlier.quantile(0.75)\n",
    "iqr=q3-q1\n",
    "LL=q1-1.5*iqr\n",
    "Ul=q3+1.5*iqr\n",
    "df_outlier7=df[['Distance ']][(df_outlier>LL)&(df_outlier<Ul)]"
   ]
  },
  {
   "cell_type": "code",
   "execution_count": 23,
   "id": "331dfaa5-beda-4e7b-b301-c952daa1fcd0",
   "metadata": {},
   "outputs": [
    {
     "data": {
      "image/png": "[encoded data removed]",
      "text/plain": [
       "<Figure size 640x480 with 1 Axes>"
      ]
     },
     "metadata": {},
     "output_type": "display_data"
    }
   ],
   "source": [
    "df_outlier7.boxplot()\n",
    "plt.show()"
   ]
  },
  {
   "cell_type": "code",
   "execution_count": 24,
   "id": "65051bf7-5784-4d7d-985e-2e37ce8044b6",
   "metadata": {},
   "outputs": [],
   "source": [
    "q1=df['manufacture_year'].quantile(0.25)\n",
    "q3=df['manufacture_year'].quantile(0.75)\n",
    "iqr=q3-q1\n",
    "LL=q1-1.5*iqr\n",
    "Ul=q3+1.5*iqr"
   ]
  },
  {
   "cell_type": "code",
   "execution_count": 25,
   "id": "e2d07231-4856-4cc0-90b6-f7b212e94c9b",
   "metadata": {},
   "outputs": [],
   "source": [
    "df_outlier1=df[['manufacture_year']][(df['manufacture_year']>LL)&(df['manufacture_year']<Ul)]"
   ]
  },
  {
   "cell_type": "code",
   "execution_count": 26,
   "id": "7229e3a5-f25a-4e14-9652-3f08db9ee813",
   "metadata": {},
   "outputs": [
    {
     "data": {
      "image/png": "[encoded data removed]",
      "text/plain": [
       "<Figure size 640x480 with 1 Axes>"
      ]
     },
     "metadata": {},
     "output_type": "display_data"
    }
   ],
   "source": [
    "df_outlier1.boxplot()\n",
    "plt.show()"
   ]
  },
  {
   "cell_type": "code",
   "execution_count": 27,
   "id": "55827de1-31d0-4355-b3f0-93a1c7a4e08b",
   "metadata": {},
   "outputs": [],
   "source": [
    "q1=df['Age of car'].quantile(0.25)\n",
    "q3=df['Age of car'].quantile(0.75)\n",
    "iqr=q3-q1\n",
    "LL=q1-1.5*iqr\n",
    "Ul=q3+1.5*iqr"
   ]
  },
  {
   "cell_type": "code",
   "execution_count": 28,
   "id": "e5aaa981-2e50-4c77-9b27-ab3c51f2c0e6",
   "metadata": {},
   "outputs": [],
   "source": [
    "df_outlier2=df[['Age of car']][(df['Age of car']>LL)&(df['Age of car']<Ul)]"
   ]
  },
  {
   "cell_type": "code",
   "execution_count": 29,
   "id": "a8c55911-9468-4cf4-a1be-7416f0cf7fe8",
   "metadata": {},
   "outputs": [
    {
     "data": {
      "image/png": "[encoded data removed]",
      "text/plain": [
       "<Figure size 640x480 with 1 Axes>"
      ]
     },
     "metadata": {},
     "output_type": "display_data"
    }
   ],
   "source": [
    "df_outlier2.boxplot()\n",
    "plt.show()"
   ]
  },
  {
   "cell_type": "code",
   "execution_count": 30,
   "id": "1a67da36-964f-4ba0-bc26-35141c621754",
   "metadata": {},
   "outputs": [],
   "source": [
    "q1=df['engine_displacement'].quantile(0.25)\n",
    "q3=df['engine_displacement'].quantile(0.75)\n",
    "iqr=q3-q1\n",
    "LL=q1-1.5*iqr\n",
    "Ul=q3+1.5*iqr"
   ]
  },
  {
   "cell_type": "code",
   "execution_count": 31,
   "id": "e10cda3c-d25f-422d-a96f-f6f4ac993f57",
   "metadata": {},
   "outputs": [],
   "source": [
    "df_outlier3=df[['engine_displacement']][(df['engine_displacement']>LL)&(df['engine_displacement']<Ul)]"
   ]
  },
  {
   "cell_type": "code",
   "execution_count": 32,
   "id": "ef5eb372-266d-4b1a-afcb-581e4f108962",
   "metadata": {},
   "outputs": [
    {
     "data": {
      "image/png": "[encoded data removed]",
      "text/plain": [
       "<Figure size 640x480 with 1 Axes>"
      ]
     },
     "metadata": {},
     "output_type": "display_data"
    }
   ],
   "source": [
    "df_outlier3.boxplot()\n",
    "plt.show()"
   ]
  },
  {
   "cell_type": "code",
   "execution_count": 33,
   "id": "9a71fe2f-0b6e-4a75-89c9-9876a3727e2a",
   "metadata": {},
   "outputs": [],
   "source": [
    "q1=df['engine_power'].quantile(0.25)\n",
    "q3=df['engine_power'].quantile(0.75)\n",
    "iqr=q3-q1\n",
    "LL=q1-1.5*iqr\n",
    "Ul=q3+1.5*iqr"
   ]
  },
  {
   "cell_type": "code",
   "execution_count": 34,
   "id": "4425fbd4-ed4f-4373-928e-72117cdbb8d9",
   "metadata": {},
   "outputs": [],
   "source": [
    "df_outlier4=df[['engine_power']][(df['engine_power']>LL)&(df['engine_power']<Ul)]"
   ]
  },
  {
   "cell_type": "code",
   "execution_count": 35,
   "id": "2032d179-46a9-4b01-b1c7-6661dd83aebe",
   "metadata": {},
   "outputs": [
    {
     "data": {
      "image/png": "[encoded data removed]",
      "text/plain": [
       "<Figure size 640x480 with 1 Axes>"
      ]
     },
     "metadata": {},
     "output_type": "display_data"
    }
   ],
   "source": [
    "df_outlier4.boxplot()\n",
    "plt.show()"
   ]
  },
  {
   "cell_type": "code",
   "execution_count": 36,
   "id": "c0e36e26-a31b-49e7-8e62-a79494914a4b",
   "metadata": {},
   "outputs": [],
   "source": [
    "q1=df_outlier4.quantile(0.25)\n",
    "q3=df_outlier4.quantile(0.75)\n",
    "iqr=q3-q1\n",
    "LL=q1-1.5*iqr\n",
    "Ul=q3+1.5*iqr\n",
    "df_outlier8=df[['engine_power']][(df_outlier4>LL)&(df_outlier4<Ul)]"
   ]
  },
  {
   "cell_type": "code",
   "execution_count": 37,
   "id": "ff067f1b-0ed5-4793-8464-2c4336ea4efe",
   "metadata": {},
   "outputs": [
    {
     "data": {
      "image/png": "[encoded data removed]",
      "text/plain": [
       "<Figure size 640x480 with 1 Axes>"
      ]
     },
     "metadata": {},
     "output_type": "display_data"
    }
   ],
   "source": [
    "df_outlier8.boxplot()\n",
    "plt.show()"
   ]
  },
  {
   "cell_type": "code",
   "execution_count": 38,
   "id": "dd136580-4cb2-462d-bf22-16df44544af2",
   "metadata": {},
   "outputs": [],
   "source": [
    "q1=df_outlier8.quantile(0.25)\n",
    "q3=df_outlier8.quantile(0.75)\n",
    "iqr=q3-q1\n",
    "LL=q1-1.5*iqr\n",
    "Ul=q3+1.5*iqr\n",
    "df_outlier9=df[['engine_power']][(df_outlier8>LL)&(df_outlier8<Ul)]"
   ]
  },
  {
   "cell_type": "code",
   "execution_count": 39,
   "id": "f64c1997-2bf9-4b48-bbdf-c81c3bb0ad05",
   "metadata": {},
   "outputs": [
    {
     "data": {
      "image/png": "[encoded data removed]",
      "text/plain": [
       "<Figure size 640x480 with 1 Axes>"
      ]
     },
     "metadata": {},
     "output_type": "display_data"
    }
   ],
   "source": [
    "df_outlier9.boxplot()\n",
    "plt.show()"
   ]
  },
  {
   "cell_type": "code",
   "execution_count": 40,
   "id": "8a906b98-7760-4b2a-89f3-a383c8ab1f30",
   "metadata": {},
   "outputs": [],
   "source": [
    "q1=df['seat_count'].quantile(0.25)\n",
    "q3=df['seat_count'].quantile(0.75)\n",
    "iqr=q3-q1\n",
    "LL=q1-1.5*iqr\n",
    "Ul=q3+1.5*iqr"
   ]
  },
  {
   "cell_type": "code",
   "execution_count": 41,
   "id": "fc0b4253-e9e7-4317-b89a-d59522bbf341",
   "metadata": {},
   "outputs": [],
   "source": [
    "df_outlier5=df[['seat_count']][(df['seat_count']>LL)&(df['seat_count']<Ul)]"
   ]
  },
  {
   "cell_type": "code",
   "execution_count": 42,
   "id": "799b7c05-7566-440e-a59a-33295834c680",
   "metadata": {},
   "outputs": [
    {
     "data": {
      "image/png": "[encoded data removed]",
      "text/plain": [
       "<Figure size 640x480 with 1 Axes>"
      ]
     },
     "metadata": {},
     "output_type": "display_data"
    }
   ],
   "source": [
    "df_outlier5.boxplot()\n",
    "plt.show()"
   ]
  },
  {
   "cell_type": "code",
   "execution_count": 43,
   "id": "3bbe57b5-8f54-44eb-b208-3bc9052aa73d",
   "metadata": {},
   "outputs": [],
   "source": [
    "q1=df['door_count'].quantile(0.25)\n",
    "q3=df['door_count'].quantile(0.75)\n",
    "iqr=q3-q1\n",
    "LL=q1-1.5*iqr\n",
    "Ul=q3+1.5*iqr"
   ]
  },
  {
   "cell_type": "code",
   "execution_count": 44,
   "id": "5f6703d7-811c-43a2-9d0f-821bd73d6859",
   "metadata": {},
   "outputs": [],
   "source": [
    "df_outlier6=df[['door_count']][(df['door_count']>LL)&(df['door_count']<Ul)]"
   ]
  },
  {
   "cell_type": "code",
   "execution_count": 45,
   "id": "e0ea9e96-008f-4029-8bc8-4b3ab800fd8f",
   "metadata": {},
   "outputs": [],
   "source": [
    "Q1=df[['Price']].quantile(0.25)\n",
    "Q1\n",
    "Q3=df[['Price']].quantile(0.75)\n",
    "Q3\n",
    "IQR=Q3-Q1\n",
    "IQR\n",
    "LL=Q1-1.5*IQR\n",
    "UL=Q3+1.5*IQR\n",
    "df2_Price=(df[['Price']][(df[['Price']]>LL)&(df[['Price']]<UL)])"
   ]
  },
  {
   "cell_type": "code",
   "execution_count": 46,
   "id": "03bb3910-3a7e-4b96-85ab-c078587009ca",
   "metadata": {},
   "outputs": [],
   "source": [
    "Q1=df2_Price.quantile(0.25)\n",
    "Q1\n",
    "Q3=df2_Price.quantile(0.75)\n",
    "Q3\n",
    "IQR=Q3-Q1\n",
    "IQR\n",
    "LL=Q1-1.5*IQR\n",
    "UL=Q3+1.5*IQR\n",
    "df2_Price1=(df[['Price']][(df2_Price>LL)&(df2_Price<UL)])"
   ]
  },
  {
   "cell_type": "code",
   "execution_count": 47,
   "id": "14dd1fda-6717-4989-9953-f136bd053ea3",
   "metadata": {},
   "outputs": [],
   "source": [
    "Q1=df2_Price1.quantile(0.25)\n",
    "Q1\n",
    "Q3=df2_Price1.quantile(0.75)\n",
    "Q3\n",
    "IQR=Q3-Q1\n",
    "IQR\n",
    "LL=Q1-1.5*IQR\n",
    "UL=Q3+1.5*IQR\n",
    "df2_Price2=(df[['Price']][(df2_Price1>LL)&(df2_Price1<UL)])"
   ]
  },
  {
   "cell_type": "code",
   "execution_count": 48,
   "id": "ac693bba-6d92-41e6-833a-9a0c3109bd93",
   "metadata": {},
   "outputs": [],
   "source": [
    "Q1=df2_Price2.quantile(0.25)\n",
    "Q1\n",
    "Q3=df2_Price2.quantile(0.75)\n",
    "Q3\n",
    "IQR=Q3-Q1\n",
    "IQR\n",
    "LL=Q1-1.5*IQR\n",
    "UL=Q3+1.5*IQR\n",
    "df2_Price3=(df[['Price']][(df2_Price2>LL)&(df2_Price2<UL)])"
   ]
  },
  {
   "cell_type": "code",
   "execution_count": 49,
   "id": "d4bea247-5c24-41b8-aafc-b6560ac0003a",
   "metadata": {},
   "outputs": [],
   "source": [
    "Q1=df2_Price3.quantile(0.25)\n",
    "Q1\n",
    "Q3=df2_Price3.quantile(0.75)\n",
    "Q3\n",
    "IQR=Q3-Q1\n",
    "IQR\n",
    "LL=Q1-1.5*IQR\n",
    "UL=Q3+1.5*IQR\n",
    "df2_Price4=(df[['Price']][(df2_Price3>LL)&(df2_Price3<UL)])"
   ]
  },
  {
   "cell_type": "code",
   "execution_count": 50,
   "id": "86f23a2a-dd83-4bd4-af04-2a651edcfd62",
   "metadata": {},
   "outputs": [],
   "source": [
    "Q1=df2_Price4.quantile(0.25)\n",
    "Q1\n",
    "Q3=df2_Price4.quantile(0.75)\n",
    "Q3\n",
    "IQR=Q3-Q1\n",
    "IQR\n",
    "LL=Q1-1.5*IQR\n",
    "UL=Q3+1.5*IQR\n",
    "df2_Price5=(df[['Price']][(df2_Price4>LL)&(df2_Price4<UL)])"
   ]
  },
  {
   "cell_type": "code",
   "execution_count": 51,
   "id": "d4ca67c7-fa55-4fc2-8402-a55258888bbf",
   "metadata": {},
   "outputs": [],
   "source": [
    "Q1=df2_Price5.quantile(0.25)\n",
    "Q1\n",
    "Q3=df2_Price5.quantile(0.75)\n",
    "Q3\n",
    "IQR=Q3-Q1\n",
    "IQR\n",
    "LL=Q1-1.5*IQR\n",
    "UL=Q3+1.5*IQR\n",
    "df2_Price6=(df[['Price']][(df2_Price5>LL)&(df2_Price5<UL)])"
   ]
  },
  {
   "cell_type": "code",
   "execution_count": 52,
   "id": "3121c8b6-3719-411b-bd56-0f63babc8213",
   "metadata": {},
   "outputs": [],
   "source": [
    "Q1=df2_Price6.quantile(0.25)\n",
    "Q1\n",
    "Q3=df2_Price6.quantile(0.75)\n",
    "Q3\n",
    "IQR=Q3-Q1\n",
    "IQR\n",
    "LL=Q1-1.5*IQR\n",
    "UL=Q3+1.5*IQR\n",
    "df2_Price7=(df[['Price']][(df2_Price6>LL)&(df2_Price6<UL)])"
   ]
  },
  {
   "cell_type": "code",
   "execution_count": 53,
   "id": "511d5ecc-0dd7-4cbc-915f-8002b4ba50b3",
   "metadata": {},
   "outputs": [],
   "source": [
    "Q1=df2_Price7.quantile(0.25)\n",
    "Q1\n",
    "Q3=df2_Price7.quantile(0.75)\n",
    "Q3\n",
    "IQR=Q3-Q1\n",
    "IQR\n",
    "LL=Q1-1.5*IQR\n",
    "UL=Q3+1.5*IQR\n",
    "df2_Price8=(df[['Price']][(df2_Price7>LL)&(df2_Price7<UL)])"
   ]
  },
  {
   "cell_type": "code",
   "execution_count": 54,
   "id": "2fef7feb-69c9-4bfa-bde4-bcdca21a8c3f",
   "metadata": {
    "scrolled": true
   },
   "outputs": [
    {
     "data": {
      "image/png": "[encoded data removed]",
      "text/plain": [
       "<Figure size 640x480 with 1 Axes>"
      ]
     },
     "metadata": {},
     "output_type": "display_data"
    }
   ],
   "source": [
    "df_outlier6.boxplot()\n",
    "plt.show()"
   ]
  },
  {
   "cell_type": "code",
   "execution_count": 55,
   "id": "618cb2f1-43f8-420d-a4d4-105a5afe4dbf",
   "metadata": {},
   "outputs": [
    {
     "data": {
      "image/png": "[encoded data removed]",
      "text/plain": [
       "<Figure size 640x480 with 2 Axes>"
      ]
     },
     "metadata": {},
     "output_type": "display_data"
    }
   ],
   "source": [
    "sns.heatmap(df.corr(),annot=True,annot_kws={'fontsize':5})\n",
    "plt.show()"
   ]
  },
  {
   "cell_type": "code",
   "execution_count": 56,
   "id": "7be1e26b-124c-4f26-8853-5bfd78b7ee94",
   "metadata": {},
   "outputs": [],
   "source": [
    "df_price=df[['Price']]"
   ]
  },
  {
   "cell_type": "code",
   "execution_count": 57,
   "id": "eba72098-d587-4e31-866d-30f5cfe8345b",
   "metadata": {},
   "outputs": [
    {
     "data": {
      "image/png": "[encoded data removed]",
      "text/plain": [
       "<Figure size 640x480 with 1 Axes>"
      ]
     },
     "metadata": {},
     "output_type": "display_data"
    }
   ],
   "source": [
    "df_price.boxplot()\n",
    "plt.show()"
   ]
  },
  {
   "cell_type": "code",
   "execution_count": 58,
   "id": "eb92a8de-ab7d-49cd-b674-7d989e520c3f",
   "metadata": {},
   "outputs": [],
   "source": [
    "df_num=pd.concat([df_cat,df_outlier7,df_outlier1,df_outlier2,df_outlier3,df_outlier9,df_outlier5,df_price,df2_Price8,df[['door_count']],df[['Id']],df[['Vroom Audit Rating']]],axis=1)"
   ]
  },
  {
   "cell_type": "code",
   "execution_count": 59,
   "id": "3485aea8-e47d-45b0-90f4-bf542e726a07",
   "metadata": {},
   "outputs": [
    {
     "data": {
      "text/html": [
       "<div>\n",
       "<style scoped>\n",
       "    .dataframe tbody tr th:only-of-type {\n",
       "        vertical-align: middle;\n",
       "    }\n",
       "\n",
       "    .dataframe tbody tr th {\n",
       "        vertical-align: top;\n",
       "    }\n",
       "\n",
       "    .dataframe thead th {\n",
       "        text-align: right;\n",
       "    }\n",
       "</style>\n",
       "<table border=\"1\" class=\"dataframe\">\n",
       "  <thead>\n",
       "    <tr style=\"text-align: right;\">\n",
       "      <th></th>\n",
       "      <th>Maker</th>\n",
       "      <th>model</th>\n",
       "      <th>Location</th>\n",
       "      <th>Owner Type</th>\n",
       "      <th>transmission</th>\n",
       "      <th>fuel_type</th>\n",
       "      <th>Distance</th>\n",
       "      <th>manufacture_year</th>\n",
       "      <th>Age of car</th>\n",
       "      <th>engine_displacement</th>\n",
       "      <th>engine_power</th>\n",
       "      <th>seat_count</th>\n",
       "      <th>Price</th>\n",
       "      <th>Price</th>\n",
       "      <th>door_count</th>\n",
       "      <th>Id</th>\n",
       "      <th>Vroom Audit Rating</th>\n",
       "    </tr>\n",
       "  </thead>\n",
       "  <tbody>\n",
       "    <tr>\n",
       "      <th>0</th>\n",
       "      <td>6</td>\n",
       "      <td>8</td>\n",
       "      <td>0</td>\n",
       "      <td>2</td>\n",
       "      <td>1</td>\n",
       "      <td>1</td>\n",
       "      <td>65520.0</td>\n",
       "      <td>NaN</td>\n",
       "      <td>NaN</td>\n",
       "      <td>1964.0</td>\n",
       "      <td>147.0</td>\n",
       "      <td>4.0</td>\n",
       "      <td>543764</td>\n",
       "      <td>543764.0</td>\n",
       "      <td>4</td>\n",
       "      <td>25001</td>\n",
       "      <td>8</td>\n",
       "    </tr>\n",
       "    <tr>\n",
       "      <th>1</th>\n",
       "      <td>2</td>\n",
       "      <td>9</td>\n",
       "      <td>0</td>\n",
       "      <td>3</td>\n",
       "      <td>1</td>\n",
       "      <td>1</td>\n",
       "      <td>27750.0</td>\n",
       "      <td>2012.0</td>\n",
       "      <td>7.0</td>\n",
       "      <td>1242.0</td>\n",
       "      <td>51.0</td>\n",
       "      <td>4.0</td>\n",
       "      <td>401819</td>\n",
       "      <td>401819.0</td>\n",
       "      <td>4</td>\n",
       "      <td>25002</td>\n",
       "      <td>6</td>\n",
       "    </tr>\n",
       "    <tr>\n",
       "      <th>2</th>\n",
       "      <td>1</td>\n",
       "      <td>18</td>\n",
       "      <td>5</td>\n",
       "      <td>3</td>\n",
       "      <td>0</td>\n",
       "      <td>0</td>\n",
       "      <td>46000.0</td>\n",
       "      <td>2014.0</td>\n",
       "      <td>5.0</td>\n",
       "      <td>1995.0</td>\n",
       "      <td>105.0</td>\n",
       "      <td>5.0</td>\n",
       "      <td>2392855</td>\n",
       "      <td>2392855.0</td>\n",
       "      <td>4</td>\n",
       "      <td>25003</td>\n",
       "      <td>7</td>\n",
       "    </tr>\n",
       "    <tr>\n",
       "      <th>3</th>\n",
       "      <td>5</td>\n",
       "      <td>6</td>\n",
       "      <td>9</td>\n",
       "      <td>3</td>\n",
       "      <td>1</td>\n",
       "      <td>1</td>\n",
       "      <td>43949.0</td>\n",
       "      <td>2011.0</td>\n",
       "      <td>8.0</td>\n",
       "      <td>1618.0</td>\n",
       "      <td>140.0</td>\n",
       "      <td>5.0</td>\n",
       "      <td>958606</td>\n",
       "      <td>958606.0</td>\n",
       "      <td>4</td>\n",
       "      <td>25004</td>\n",
       "      <td>7</td>\n",
       "    </tr>\n",
       "    <tr>\n",
       "      <th>4</th>\n",
       "      <td>1</td>\n",
       "      <td>20</td>\n",
       "      <td>6</td>\n",
       "      <td>1</td>\n",
       "      <td>0</td>\n",
       "      <td>0</td>\n",
       "      <td>59524.0</td>\n",
       "      <td>2012.0</td>\n",
       "      <td>7.0</td>\n",
       "      <td>NaN</td>\n",
       "      <td>NaN</td>\n",
       "      <td>5.0</td>\n",
       "      <td>3085561</td>\n",
       "      <td>NaN</td>\n",
       "      <td>4</td>\n",
       "      <td>25005</td>\n",
       "      <td>7</td>\n",
       "    </tr>\n",
       "    <tr>\n",
       "      <th>...</th>\n",
       "      <td>...</td>\n",
       "      <td>...</td>\n",
       "      <td>...</td>\n",
       "      <td>...</td>\n",
       "      <td>...</td>\n",
       "      <td>...</td>\n",
       "      <td>...</td>\n",
       "      <td>...</td>\n",
       "      <td>...</td>\n",
       "      <td>...</td>\n",
       "      <td>...</td>\n",
       "      <td>...</td>\n",
       "      <td>...</td>\n",
       "      <td>...</td>\n",
       "      <td>...</td>\n",
       "      <td>...</td>\n",
       "      <td>...</td>\n",
       "    </tr>\n",
       "    <tr>\n",
       "      <th>53510</th>\n",
       "      <td>6</td>\n",
       "      <td>8</td>\n",
       "      <td>4</td>\n",
       "      <td>1</td>\n",
       "      <td>1</td>\n",
       "      <td>0</td>\n",
       "      <td>29334.0</td>\n",
       "      <td>2014.0</td>\n",
       "      <td>5.0</td>\n",
       "      <td>1598.0</td>\n",
       "      <td>77.0</td>\n",
       "      <td>5.0</td>\n",
       "      <td>1342996</td>\n",
       "      <td>1342996.0</td>\n",
       "      <td>4</td>\n",
       "      <td>78511</td>\n",
       "      <td>4</td>\n",
       "    </tr>\n",
       "    <tr>\n",
       "      <th>53511</th>\n",
       "      <td>6</td>\n",
       "      <td>8</td>\n",
       "      <td>1</td>\n",
       "      <td>1</td>\n",
       "      <td>1</td>\n",
       "      <td>0</td>\n",
       "      <td>223631.0</td>\n",
       "      <td>2009.0</td>\n",
       "      <td>10.0</td>\n",
       "      <td>1900.0</td>\n",
       "      <td>77.0</td>\n",
       "      <td>5.0</td>\n",
       "      <td>510732</td>\n",
       "      <td>510732.0</td>\n",
       "      <td>5</td>\n",
       "      <td>78512</td>\n",
       "      <td>8</td>\n",
       "    </tr>\n",
       "    <tr>\n",
       "      <th>53512</th>\n",
       "      <td>1</td>\n",
       "      <td>18</td>\n",
       "      <td>10</td>\n",
       "      <td>3</td>\n",
       "      <td>0</td>\n",
       "      <td>0</td>\n",
       "      <td>25500.0</td>\n",
       "      <td>2015.0</td>\n",
       "      <td>4.0</td>\n",
       "      <td>1995.0</td>\n",
       "      <td>105.0</td>\n",
       "      <td>5.0</td>\n",
       "      <td>2008123</td>\n",
       "      <td>2008123.0</td>\n",
       "      <td>4</td>\n",
       "      <td>78513</td>\n",
       "      <td>4</td>\n",
       "    </tr>\n",
       "    <tr>\n",
       "      <th>53513</th>\n",
       "      <td>7</td>\n",
       "      <td>1</td>\n",
       "      <td>6</td>\n",
       "      <td>3</td>\n",
       "      <td>1</td>\n",
       "      <td>0</td>\n",
       "      <td>NaN</td>\n",
       "      <td>2011.0</td>\n",
       "      <td>8.0</td>\n",
       "      <td>NaN</td>\n",
       "      <td>93.0</td>\n",
       "      <td>4.0</td>\n",
       "      <td>874352</td>\n",
       "      <td>874352.0</td>\n",
       "      <td>4</td>\n",
       "      <td>78514</td>\n",
       "      <td>5</td>\n",
       "    </tr>\n",
       "    <tr>\n",
       "      <th>53514</th>\n",
       "      <td>1</td>\n",
       "      <td>20</td>\n",
       "      <td>7</td>\n",
       "      <td>0</td>\n",
       "      <td>0</td>\n",
       "      <td>0</td>\n",
       "      <td>142000.0</td>\n",
       "      <td>2008.0</td>\n",
       "      <td>11.0</td>\n",
       "      <td>NaN</td>\n",
       "      <td>NaN</td>\n",
       "      <td>5.0</td>\n",
       "      <td>1576610</td>\n",
       "      <td>1576610.0</td>\n",
       "      <td>5</td>\n",
       "      <td>78515</td>\n",
       "      <td>4</td>\n",
       "    </tr>\n",
       "  </tbody>\n",
       "</table>\n",
       "<p>53515 rows × 17 columns</p>\n",
       "</div>"
      ],
      "text/plain": [
       "       Maker  model  Location  Owner Type  transmission  fuel_type  Distance   \\\n",
       "0          6      8         0           2             1          1    65520.0   \n",
       "1          2      9         0           3             1          1    27750.0   \n",
       "2          1     18         5           3             0          0    46000.0   \n",
       "3          5      6         9           3             1          1    43949.0   \n",
       "4          1     20         6           1             0          0    59524.0   \n",
       "...      ...    ...       ...         ...           ...        ...        ...   \n",
       "53510      6      8         4           1             1          0    29334.0   \n",
       "53511      6      8         1           1             1          0   223631.0   \n",
       "53512      1     18        10           3             0          0    25500.0   \n",
       "53513      7      1         6           3             1          0        NaN   \n",
       "53514      1     20         7           0             0          0   142000.0   \n",
       "\n",
       "       manufacture_year  Age of car  engine_displacement  engine_power  \\\n",
       "0                   NaN         NaN               1964.0         147.0   \n",
       "1                2012.0         7.0               1242.0          51.0   \n",
       "2                2014.0         5.0               1995.0         105.0   \n",
       "3                2011.0         8.0               1618.0         140.0   \n",
       "4                2012.0         7.0                  NaN           NaN   \n",
       "...                 ...         ...                  ...           ...   \n",
       "53510            2014.0         5.0               1598.0          77.0   \n",
       "53511            2009.0        10.0               1900.0          77.0   \n",
       "53512            2015.0         4.0               1995.0         105.0   \n",
       "53513            2011.0         8.0                  NaN          93.0   \n",
       "53514            2008.0        11.0                  NaN           NaN   \n",
       "\n",
       "       seat_count    Price      Price  door_count     Id  Vroom Audit Rating  \n",
       "0             4.0   543764   543764.0           4  25001                   8  \n",
       "1             4.0   401819   401819.0           4  25002                   6  \n",
       "2             5.0  2392855  2392855.0           4  25003                   7  \n",
       "3             5.0   958606   958606.0           4  25004                   7  \n",
       "4             5.0  3085561        NaN           4  25005                   7  \n",
       "...           ...      ...        ...         ...    ...                 ...  \n",
       "53510         5.0  1342996  1342996.0           4  78511                   4  \n",
       "53511         5.0   510732   510732.0           5  78512                   8  \n",
       "53512         5.0  2008123  2008123.0           4  78513                   4  \n",
       "53513         4.0   874352   874352.0           4  78514                   5  \n",
       "53514         5.0  1576610  1576610.0           5  78515                   4  \n",
       "\n",
       "[53515 rows x 17 columns]"
      ]
     },
     "execution_count": 59,
     "metadata": {},
     "output_type": "execute_result"
    }
   ],
   "source": [
    "df_num"
   ]
  },
  {
   "cell_type": "code",
   "execution_count": 60,
   "id": "129ad3a5-9cf8-4853-803c-5a3478c96dd4",
   "metadata": {},
   "outputs": [
    {
     "data": {
      "text/plain": [
       "Maker                     0\n",
       "model                     0\n",
       "Location                  0\n",
       "Owner Type                0\n",
       "transmission              0\n",
       "fuel_type                 0\n",
       "Distance                660\n",
       "manufacture_year       1325\n",
       "Age of car             1325\n",
       "engine_displacement    5651\n",
       "engine_power           5223\n",
       "seat_count             1581\n",
       "Price                     0\n",
       "Price                  2961\n",
       "door_count                0\n",
       "Id                        0\n",
       "Vroom Audit Rating        0\n",
       "dtype: int64"
      ]
     },
     "execution_count": 60,
     "metadata": {},
     "output_type": "execute_result"
    }
   ],
   "source": [
    "df_num.isnull().sum()"
   ]
  },
  {
   "cell_type": "code",
   "execution_count": 61,
   "id": "372a004b-081e-4f2c-9cb6-cf2c18171d72",
   "metadata": {},
   "outputs": [
    {
     "data": {
      "text/plain": [
       "Maker                    int64\n",
       "model                    int64\n",
       "Location                 int64\n",
       "Owner Type               int64\n",
       "transmission             int64\n",
       "fuel_type                int64\n",
       "Distance               float64\n",
       "manufacture_year       float64\n",
       "Age of car             float64\n",
       "engine_displacement    float64\n",
       "engine_power           float64\n",
       "seat_count             float64\n",
       "Price                    int64\n",
       "Price                  float64\n",
       "door_count               int64\n",
       "Id                       int64\n",
       "Vroom Audit Rating       int64\n",
       "dtype: object"
      ]
     },
     "execution_count": 61,
     "metadata": {},
     "output_type": "execute_result"
    }
   ],
   "source": [
    "df_num.dtypes"
   ]
  },
  {
   "cell_type": "code",
   "execution_count": 62,
   "id": "06e53c9e-08b8-4227-a157-82f1a504ed51",
   "metadata": {},
   "outputs": [],
   "source": [
    "df_num.dropna(subset=['Distance ','manufacture_year', 'Age of car',\n",
    "       'engine_displacement', 'engine_power','Price','seat_count'],inplace=True)"
   ]
  },
  {
   "cell_type": "code",
   "execution_count": 63,
   "id": "986123ba-6d48-4e68-8a23-ad49cc6da275",
   "metadata": {},
   "outputs": [
    {
     "data": {
      "text/plain": [
       "Maker                  0\n",
       "model                  0\n",
       "Location               0\n",
       "Owner Type             0\n",
       "transmission           0\n",
       "fuel_type              0\n",
       "Distance               0\n",
       "manufacture_year       0\n",
       "Age of car             0\n",
       "engine_displacement    0\n",
       "engine_power           0\n",
       "seat_count             0\n",
       "Price                  0\n",
       "Price                  0\n",
       "door_count             0\n",
       "Id                     0\n",
       "Vroom Audit Rating     0\n",
       "dtype: int64"
      ]
     },
     "execution_count": 63,
     "metadata": {},
     "output_type": "execute_result"
    }
   ],
   "source": [
    "df_num.isnull().sum()"
   ]
  },
  {
   "cell_type": "code",
   "execution_count": 64,
   "id": "c7c01521-6ccc-4c22-86a9-83db9474726b",
   "metadata": {},
   "outputs": [],
   "source": [
    "df_num=df_num.astype(int)"
   ]
  },
  {
   "cell_type": "code",
   "execution_count": 65,
   "id": "18e351e6-e514-48a4-93fa-c8f6e2b820d6",
   "metadata": {},
   "outputs": [],
   "source": [
    "df3_Price=df_num[['Price']]"
   ]
  },
  {
   "cell_type": "code",
   "execution_count": 66,
   "id": "48feaf37-2cae-449f-9a76-e374f5c9b98b",
   "metadata": {},
   "outputs": [],
   "source": [
    "df_num.drop(columns='Price',inplace=True)"
   ]
  },
  {
   "cell_type": "code",
   "execution_count": 67,
   "id": "e36cfce4-c4b0-42ee-8d5a-6c97a6670fbd",
   "metadata": {},
   "outputs": [
    {
     "data": {
      "text/plain": [
       "Index(['Maker', 'model', 'Location', 'Owner Type', 'transmission', 'fuel_type',\n",
       "       'Id', 'Distance ', 'manufacture_year', 'Age of car',\n",
       "       'engine_displacement', 'engine_power', 'Vroom Audit Rating',\n",
       "       'door_count', 'seat_count', 'Price'],\n",
       "      dtype='object')"
      ]
     },
     "execution_count": 67,
     "metadata": {},
     "output_type": "execute_result"
    }
   ],
   "source": [
    "df.columns"
   ]
  },
  {
   "cell_type": "code",
   "execution_count": 68,
   "id": "b780162e-732d-46df-af6d-7e64a56c3861",
   "metadata": {},
   "outputs": [],
   "source": [
    "df1=pd.concat([df_num,df3_Price],axis=1)"
   ]
  },
  {
   "cell_type": "code",
   "execution_count": 69,
   "id": "345c896b-a200-4b9c-848f-bd33bc951517",
   "metadata": {},
   "outputs": [],
   "source": [
    "from sklearn.preprocessing import StandardScaler\n",
    "ss=StandardScaler()\n",
    "df_stand=pd.DataFrame(ss.fit_transform(df1),columns=df1.columns)"
   ]
  },
  {
   "cell_type": "code",
   "execution_count": 70,
   "id": "5fd29cf9-b9e9-48d7-8037-f602deccaaa0",
   "metadata": {},
   "outputs": [
    {
     "data": {
      "text/plain": [
       "Maker                  0\n",
       "model                  0\n",
       "Location               0\n",
       "Owner Type             0\n",
       "transmission           0\n",
       "fuel_type              0\n",
       "Distance               0\n",
       "manufacture_year       0\n",
       "Age of car             0\n",
       "engine_displacement    0\n",
       "engine_power           0\n",
       "seat_count             0\n",
       "door_count             0\n",
       "Id                     0\n",
       "Vroom Audit Rating     0\n",
       "Price                  0\n",
       "Price                  0\n",
       "dtype: int64"
      ]
     },
     "execution_count": 70,
     "metadata": {},
     "output_type": "execute_result"
    }
   ],
   "source": [
    "df_stand.isnull().sum()"
   ]
  },
  {
   "cell_type": "code",
   "execution_count": 71,
   "id": "64589814-06f9-4719-a5b3-1ebee665baf5",
   "metadata": {},
   "outputs": [
    {
     "data": {
      "text/plain": [
       "Maker                  0\n",
       "model                  0\n",
       "Location               0\n",
       "Owner Type             0\n",
       "transmission           0\n",
       "fuel_type              0\n",
       "Id                     0\n",
       "Distance               0\n",
       "manufacture_year       0\n",
       "Age of car             0\n",
       "engine_displacement    0\n",
       "engine_power           0\n",
       "Vroom Audit Rating     0\n",
       "door_count             0\n",
       "seat_count             0\n",
       "Price                  0\n",
       "dtype: int64"
      ]
     },
     "execution_count": 71,
     "metadata": {},
     "output_type": "execute_result"
    }
   ],
   "source": [
    "df.isnull().sum()"
   ]
  },
  {
   "cell_type": "code",
   "execution_count": 82,
   "id": "96d4eef9-29bf-435a-b520-5e4bc74dd8a0",
   "metadata": {},
   "outputs": [
    {
     "data": {
      "image/png": "[encoded data removed]",
      "text/plain": [
       "<Figure size 1200x1200 with 1 Axes>"
      ]
     },
     "metadata": {},
     "output_type": "display_data"
    }
   ],
   "source": [
    "df_stand.boxplot(fontsize=5,figsize=(12,12))\n",
    "plt.show()"
   ]
  },
  {
   "cell_type": "code",
   "execution_count": 73,
   "id": "139be39e-12ff-4f47-8561-81d6845dd80f",
   "metadata": {},
   "outputs": [],
   "source": [
    "X=df_stand[['Maker', 'model', 'Location', 'Owner Type', 'transmission', 'fuel_type','Id', 'Distance ', 'manufacture_year', 'Age of car','engine_displacement', 'engine_power', 'Vroom Audit Rating','door_count', 'seat_count']]\n",
    "y=df_stand['Price']"
   ]
  },
  {
   "cell_type": "code",
   "execution_count": 74,
   "id": "0a1e21e4-2fc7-4342-a7a4-22d89fa64e24",
   "metadata": {},
   "outputs": [],
   "source": [
    "from sklearn.linear_model import LinearRegression\n",
    "model=LinearRegression()"
   ]
  },
  {
   "cell_type": "code",
   "execution_count": 75,
   "id": "325dcf00-f7b2-436c-b3ae-1449ab37b9eb",
   "metadata": {},
   "outputs": [
    {
     "data": {
      "text/html": [
       "<style>#sk-container-id-1 {\n",
       "  /* Definition of color scheme common for light and dark mode */\n",
       "  --sklearn-color-text: black;\n",
       "  --sklearn-color-line: gray;\n",
       "  /* Definition of color scheme for unfitted estimators */\n",
       "  --sklearn-color-unfitted-level-0: #fff5e6;\n",
       "  --sklearn-color-unfitted-level-1: #f6e4d2;\n",
       "  --sklearn-color-unfitted-level-2: #ffe0b3;\n",
       "  --sklearn-color-unfitted-level-3: chocolate;\n",
       "  /* Definition of color scheme for fitted estimators */\n",
       "  --sklearn-color-fitted-level-0: #f0f8ff;\n",
       "  --sklearn-color-fitted-level-1: #d4ebff;\n",
       "  --sklearn-color-fitted-level-2: #b3dbfd;\n",
       "  --sklearn-color-fitted-level-3: cornflowerblue;\n",
       "\n",
       "  /* Specific color for light theme */\n",
       "  --sklearn-color-text-on-default-background: var(--sg-text-color, var(--theme-code-foreground, var(--jp-content-font-color1, black)));\n",
       "  --sklearn-color-background: var(--sg-background-color, var(--theme-background, var(--jp-layout-color0, white)));\n",
       "  --sklearn-color-border-box: var(--sg-text-color, var(--theme-code-foreground, var(--jp-content-font-color1, black)));\n",
       "  --sklearn-color-icon: #696969;\n",
       "\n",
       "  @media (prefers-color-scheme: dark) {\n",
       "    /* Redefinition of color scheme for dark theme */\n",
       "    --sklearn-color-text-on-default-background: var(--sg-text-color, var(--theme-code-foreground, var(--jp-content-font-color1, white)));\n",
       "    --sklearn-color-background: var(--sg-background-color, var(--theme-background, var(--jp-layout-color0, #111)));\n",
       "    --sklearn-color-border-box: var(--sg-text-color, var(--theme-code-foreground, var(--jp-content-font-color1, white)));\n",
       "    --sklearn-color-icon: #878787;\n",
       "  }\n",
       "}\n",
       "\n",
       "#sk-container-id-1 {\n",
       "  color: var(--sklearn-color-text);\n",
       "}\n",
       "\n",
       "#sk-container-id-1 pre {\n",
       "  padding: 0;\n",
       "}\n",
       "\n",
       "#sk-container-id-1 input.sk-hidden--visually {\n",
       "  border: 0;\n",
       "  clip: rect(1px 1px 1px 1px);\n",
       "  clip: rect(1px, 1px, 1px, 1px);\n",
       "  height: 1px;\n",
       "  margin: -1px;\n",
       "  overflow: hidden;\n",
       "  padding: 0;\n",
       "  position: absolute;\n",
       "  width: 1px;\n",
       "}\n",
       "\n",
       "#sk-container-id-1 div.sk-dashed-wrapped {\n",
       "  border: 1px dashed var(--sklearn-color-line);\n",
       "  margin: 0 0.4em 0.5em 0.4em;\n",
       "  box-sizing: border-box;\n",
       "  padding-bottom: 0.4em;\n",
       "  background-color: var(--sklearn-color-background);\n",
       "}\n",
       "\n",
       "#sk-container-id-1 div.sk-container {\n",
       "  /* jupyter's `normalize.less` sets `[hidden] { display: none; }`\n",
       "     but bootstrap.min.css set `[hidden] { display: none !important; }`\n",
       "     so we also need the `!important` here to be able to override the\n",
       "     default hidden behavior on the sphinx rendered scikit-learn.org.\n",
       "     See: https://github.com/scikit-learn/scikit-learn/issues/21755 */\n",
       "  display: inline-block !important;\n",
       "  position: relative;\n",
       "}\n",
       "\n",
       "#sk-container-id-1 div.sk-text-repr-fallback {\n",
       "  display: none;\n",
       "}\n",
       "\n",
       "div.sk-parallel-item,\n",
       "div.sk-serial,\n",
       "div.sk-item {\n",
       "  /* draw centered vertical line to link estimators */\n",
       "  background-image: linear-gradient(var(--sklearn-color-text-on-default-background), var(--sklearn-color-text-on-default-background));\n",
       "  background-size: 2px 100%;\n",
       "  background-repeat: no-repeat;\n",
       "  background-position: center center;\n",
       "}\n",
       "\n",
       "/* Parallel-specific style estimator block */\n",
       "\n",
       "#sk-container-id-1 div.sk-parallel-item::after {\n",
       "  content: \"\";\n",
       "  width: 100%;\n",
       "  border-bottom: 2px solid var(--sklearn-color-text-on-default-background);\n",
       "  flex-grow: 1;\n",
       "}\n",
       "\n",
       "#sk-container-id-1 div.sk-parallel {\n",
       "  display: flex;\n",
       "  align-items: stretch;\n",
       "  justify-content: center;\n",
       "  background-color: var(--sklearn-color-background);\n",
       "  position: relative;\n",
       "}\n",
       "\n",
       "#sk-container-id-1 div.sk-parallel-item {\n",
       "  display: flex;\n",
       "  flex-direction: column;\n",
       "}\n",
       "\n",
       "#sk-container-id-1 div.sk-parallel-item:first-child::after {\n",
       "  align-self: flex-end;\n",
       "  width: 50%;\n",
       "}\n",
       "\n",
       "#sk-container-id-1 div.sk-parallel-item:last-child::after {\n",
       "  align-self: flex-start;\n",
       "  width: 50%;\n",
       "}\n",
       "\n",
       "#sk-container-id-1 div.sk-parallel-item:only-child::after {\n",
       "  width: 0;\n",
       "}\n",
       "\n",
       "/* Serial-specific style estimator block */\n",
       "\n",
       "#sk-container-id-1 div.sk-serial {\n",
       "  display: flex;\n",
       "  flex-direction: column;\n",
       "  align-items: center;\n",
       "  background-color: var(--sklearn-color-background);\n",
       "  padding-right: 1em;\n",
       "  padding-left: 1em;\n",
       "}\n",
       "\n",
       "\n",
       "/* Toggleable style: style used for estimator/Pipeline/ColumnTransformer box that is\n",
       "clickable and can be expanded/collapsed.\n",
       "- Pipeline and ColumnTransformer use this feature and define the default style\n",
       "- Estimators will overwrite some part of the style using the `sk-estimator` class\n",
       "*/\n",
       "\n",
       "/* Pipeline and ColumnTransformer style (default) */\n",
       "\n",
       "#sk-container-id-1 div.sk-toggleable {\n",
       "  /* Default theme specific background. It is overwritten whether we have a\n",
       "  specific estimator or a Pipeline/ColumnTransformer */\n",
       "  background-color: var(--sklearn-color-background);\n",
       "}\n",
       "\n",
       "/* Toggleable label */\n",
       "#sk-container-id-1 label.sk-toggleable__label {\n",
       "  cursor: pointer;\n",
       "  display: block;\n",
       "  width: 100%;\n",
       "  margin-bottom: 0;\n",
       "  padding: 0.5em;\n",
       "  box-sizing: border-box;\n",
       "  text-align: center;\n",
       "}\n",
       "\n",
       "#sk-container-id-1 label.sk-toggleable__label-arrow:before {\n",
       "  /* Arrow on the left of the label */\n",
       "  content: \"▸\";\n",
       "  float: left;\n",
       "  margin-right: 0.25em;\n",
       "  color: var(--sklearn-color-icon);\n",
       "}\n",
       "\n",
       "#sk-container-id-1 label.sk-toggleable__label-arrow:hover:before {\n",
       "  color: var(--sklearn-color-text);\n",
       "}\n",
       "\n",
       "/* Toggleable content - dropdown */\n",
       "\n",
       "#sk-container-id-1 div.sk-toggleable__content {\n",
       "  max-height: 0;\n",
       "  max-width: 0;\n",
       "  overflow: hidden;\n",
       "  text-align: left;\n",
       "  /* unfitted */\n",
       "  background-color: var(--sklearn-color-unfitted-level-0);\n",
       "}\n",
       "\n",
       "#sk-container-id-1 div.sk-toggleable__content.fitted {\n",
       "  /* fitted */\n",
       "  background-color: var(--sklearn-color-fitted-level-0);\n",
       "}\n",
       "\n",
       "#sk-container-id-1 div.sk-toggleable__content pre {\n",
       "  margin: 0.2em;\n",
       "  border-radius: 0.25em;\n",
       "  color: var(--sklearn-color-text);\n",
       "  /* unfitted */\n",
       "  background-color: var(--sklearn-color-unfitted-level-0);\n",
       "}\n",
       "\n",
       "#sk-container-id-1 div.sk-toggleable__content.fitted pre {\n",
       "  /* unfitted */\n",
       "  background-color: var(--sklearn-color-fitted-level-0);\n",
       "}\n",
       "\n",
       "#sk-container-id-1 input.sk-toggleable__control:checked~div.sk-toggleable__content {\n",
       "  /* Expand drop-down */\n",
       "  max-height: 200px;\n",
       "  max-width: 100%;\n",
       "  overflow: auto;\n",
       "}\n",
       "\n",
       "#sk-container-id-1 input.sk-toggleable__control:checked~label.sk-toggleable__label-arrow:before {\n",
       "  content: \"▾\";\n",
       "}\n",
       "\n",
       "/* Pipeline/ColumnTransformer-specific style */\n",
       "\n",
       "#sk-container-id-1 div.sk-label input.sk-toggleable__control:checked~label.sk-toggleable__label {\n",
       "  color: var(--sklearn-color-text);\n",
       "  background-color: var(--sklearn-color-unfitted-level-2);\n",
       "}\n",
       "\n",
       "#sk-container-id-1 div.sk-label.fitted input.sk-toggleable__control:checked~label.sk-toggleable__label {\n",
       "  background-color: var(--sklearn-color-fitted-level-2);\n",
       "}\n",
       "\n",
       "/* Estimator-specific style */\n",
       "\n",
       "/* Colorize estimator box */\n",
       "#sk-container-id-1 div.sk-estimator input.sk-toggleable__control:checked~label.sk-toggleable__label {\n",
       "  /* unfitted */\n",
       "  background-color: var(--sklearn-color-unfitted-level-2);\n",
       "}\n",
       "\n",
       "#sk-container-id-1 div.sk-estimator.fitted input.sk-toggleable__control:checked~label.sk-toggleable__label {\n",
       "  /* fitted */\n",
       "  background-color: var(--sklearn-color-fitted-level-2);\n",
       "}\n",
       "\n",
       "#sk-container-id-1 div.sk-label label.sk-toggleable__label,\n",
       "#sk-container-id-1 div.sk-label label {\n",
       "  /* The background is the default theme color */\n",
       "  color: var(--sklearn-color-text-on-default-background);\n",
       "}\n",
       "\n",
       "/* On hover, darken the color of the background */\n",
       "#sk-container-id-1 div.sk-label:hover label.sk-toggleable__label {\n",
       "  color: var(--sklearn-color-text);\n",
       "  background-color: var(--sklearn-color-unfitted-level-2);\n",
       "}\n",
       "\n",
       "/* Label box, darken color on hover, fitted */\n",
       "#sk-container-id-1 div.sk-label.fitted:hover label.sk-toggleable__label.fitted {\n",
       "  color: var(--sklearn-color-text);\n",
       "  background-color: var(--sklearn-color-fitted-level-2);\n",
       "}\n",
       "\n",
       "/* Estimator label */\n",
       "\n",
       "#sk-container-id-1 div.sk-label label {\n",
       "  font-family: monospace;\n",
       "  font-weight: bold;\n",
       "  display: inline-block;\n",
       "  line-height: 1.2em;\n",
       "}\n",
       "\n",
       "#sk-container-id-1 div.sk-label-container {\n",
       "  text-align: center;\n",
       "}\n",
       "\n",
       "/* Estimator-specific */\n",
       "#sk-container-id-1 div.sk-estimator {\n",
       "  font-family: monospace;\n",
       "  border: 1px dotted var(--sklearn-color-border-box);\n",
       "  border-radius: 0.25em;\n",
       "  box-sizing: border-box;\n",
       "  margin-bottom: 0.5em;\n",
       "  /* unfitted */\n",
       "  background-color: var(--sklearn-color-unfitted-level-0);\n",
       "}\n",
       "\n",
       "#sk-container-id-1 div.sk-estimator.fitted {\n",
       "  /* fitted */\n",
       "  background-color: var(--sklearn-color-fitted-level-0);\n",
       "}\n",
       "\n",
       "/* on hover */\n",
       "#sk-container-id-1 div.sk-estimator:hover {\n",
       "  /* unfitted */\n",
       "  background-color: var(--sklearn-color-unfitted-level-2);\n",
       "}\n",
       "\n",
       "#sk-container-id-1 div.sk-estimator.fitted:hover {\n",
       "  /* fitted */\n",
       "  background-color: var(--sklearn-color-fitted-level-2);\n",
       "}\n",
       "\n",
       "/* Specification for estimator info (e.g. \"i\" and \"?\") */\n",
       "\n",
       "/* Common style for \"i\" and \"?\" */\n",
       "\n",
       ".sk-estimator-doc-link,\n",
       "a:link.sk-estimator-doc-link,\n",
       "a:visited.sk-estimator-doc-link {\n",
       "  float: right;\n",
       "  font-size: smaller;\n",
       "  line-height: 1em;\n",
       "  font-family: monospace;\n",
       "  background-color: var(--sklearn-color-background);\n",
       "  border-radius: 1em;\n",
       "  height: 1em;\n",
       "  width: 1em;\n",
       "  text-decoration: none !important;\n",
       "  margin-left: 1ex;\n",
       "  /* unfitted */\n",
       "  border: var(--sklearn-color-unfitted-level-1) 1pt solid;\n",
       "  color: var(--sklearn-color-unfitted-level-1);\n",
       "}\n",
       "\n",
       ".sk-estimator-doc-link.fitted,\n",
       "a:link.sk-estimator-doc-link.fitted,\n",
       "a:visited.sk-estimator-doc-link.fitted {\n",
       "  /* fitted */\n",
       "  border: var(--sklearn-color-fitted-level-1) 1pt solid;\n",
       "  color: var(--sklearn-color-fitted-level-1);\n",
       "}\n",
       "\n",
       "/* On hover */\n",
       "div.sk-estimator:hover .sk-estimator-doc-link:hover,\n",
       ".sk-estimator-doc-link:hover,\n",
       "div.sk-label-container:hover .sk-estimator-doc-link:hover,\n",
       ".sk-estimator-doc-link:hover {\n",
       "  /* unfitted */\n",
       "  background-color: var(--sklearn-color-unfitted-level-3);\n",
       "  color: var(--sklearn-color-background);\n",
       "  text-decoration: none;\n",
       "}\n",
       "\n",
       "div.sk-estimator.fitted:hover .sk-estimator-doc-link.fitted:hover,\n",
       ".sk-estimator-doc-link.fitted:hover,\n",
       "div.sk-label-container:hover .sk-estimator-doc-link.fitted:hover,\n",
       ".sk-estimator-doc-link.fitted:hover {\n",
       "  /* fitted */\n",
       "  background-color: var(--sklearn-color-fitted-level-3);\n",
       "  color: var(--sklearn-color-background);\n",
       "  text-decoration: none;\n",
       "}\n",
       "\n",
       "/* Span, style for the box shown on hovering the info icon */\n",
       ".sk-estimator-doc-link span {\n",
       "  display: none;\n",
       "  z-index: 9999;\n",
       "  position: relative;\n",
       "  font-weight: normal;\n",
       "  right: .2ex;\n",
       "  padding: .5ex;\n",
       "  margin: .5ex;\n",
       "  width: min-content;\n",
       "  min-width: 20ex;\n",
       "  max-width: 50ex;\n",
       "  color: var(--sklearn-color-text);\n",
       "  box-shadow: 2pt 2pt 4pt #999;\n",
       "  /* unfitted */\n",
       "  background: var(--sklearn-color-unfitted-level-0);\n",
       "  border: .5pt solid var(--sklearn-color-unfitted-level-3);\n",
       "}\n",
       "\n",
       ".sk-estimator-doc-link.fitted span {\n",
       "  /* fitted */\n",
       "  background: var(--sklearn-color-fitted-level-0);\n",
       "  border: var(--sklearn-color-fitted-level-3);\n",
       "}\n",
       "\n",
       ".sk-estimator-doc-link:hover span {\n",
       "  display: block;\n",
       "}\n",
       "\n",
       "/* \"?\"-specific style due to the `<a>` HTML tag */\n",
       "\n",
       "#sk-container-id-1 a.estimator_doc_link {\n",
       "  float: right;\n",
       "  font-size: 1rem;\n",
       "  line-height: 1em;\n",
       "  font-family: monospace;\n",
       "  background-color: var(--sklearn-color-background);\n",
       "  border-radius: 1rem;\n",
       "  height: 1rem;\n",
       "  width: 1rem;\n",
       "  text-decoration: none;\n",
       "  /* unfitted */\n",
       "  color: var(--sklearn-color-unfitted-level-1);\n",
       "  border: var(--sklearn-color-unfitted-level-1) 1pt solid;\n",
       "}\n",
       "\n",
       "#sk-container-id-1 a.estimator_doc_link.fitted {\n",
       "  /* fitted */\n",
       "  border: var(--sklearn-color-fitted-level-1) 1pt solid;\n",
       "  color: var(--sklearn-color-fitted-level-1);\n",
       "}\n",
       "\n",
       "/* On hover */\n",
       "#sk-container-id-1 a.estimator_doc_link:hover {\n",
       "  /* unfitted */\n",
       "  background-color: var(--sklearn-color-unfitted-level-3);\n",
       "  color: var(--sklearn-color-background);\n",
       "  text-decoration: none;\n",
       "}\n",
       "\n",
       "#sk-container-id-1 a.estimator_doc_link.fitted:hover {\n",
       "  /* fitted */\n",
       "  background-color: var(--sklearn-color-fitted-level-3);\n",
       "}\n",
       "</style><div id=\"sk-container-id-1\" class=\"sk-top-container\"><div class=\"sk-text-repr-fallback\"><pre>LinearRegression()</pre><b>In a Jupyter environment, please rerun this cell to show the HTML representation or trust the notebook. <br />On GitHub, the HTML representation is unable to render, please try loading this page with nbviewer.org.</b></div><div class=\"sk-container\" hidden><div class=\"sk-item\"><div class=\"sk-estimator fitted sk-toggleable\"><input class=\"sk-toggleable__control sk-hidden--visually\" id=\"sk-estimator-id-1\" type=\"checkbox\" checked><label for=\"sk-estimator-id-1\" class=\"sk-toggleable__label fitted sk-toggleable__label-arrow fitted\">&nbsp;&nbsp;LinearRegression<a class=\"sk-estimator-doc-link fitted\" rel=\"noreferrer\" target=\"_blank\" href=\"https://scikit-learn.org/1.5/modules/generated/sklearn.linear_model.LinearRegression.html\">?<span>Documentation for LinearRegression</span></a><span class=\"sk-estimator-doc-link fitted\">i<span>Fitted</span></span></label><div class=\"sk-toggleable__content fitted\"><pre>LinearRegression()</pre></div> </div></div></div></div>"
      ],
      "text/plain": [
       "LinearRegression()"
      ]
     },
     "execution_count": 75,
     "metadata": {},
     "output_type": "execute_result"
    }
   ],
   "source": [
    "model.fit(X,y)"
   ]
  },
  {
   "cell_type": "code",
   "execution_count": 76,
   "id": "f4e091f0-9688-4e53-bfa8-e7dceefce357",
   "metadata": {},
   "outputs": [],
   "source": [
    "y_predicted=pd.DataFrame(model.predict(X))"
   ]
  },
  {
   "cell_type": "code",
   "execution_count": 77,
   "id": "7b0791ae-ea3c-4957-9c61-0ef66cadec87",
   "metadata": {},
   "outputs": [
    {
     "data": {
      "text/plain": [
       "np.float64(0.17194233888407146)"
      ]
     },
     "execution_count": 77,
     "metadata": {},
     "output_type": "execute_result"
    }
   ],
   "source": [
    "from sklearn.metrics import mean_squared_error\n",
    "mean_squared_error(y,y_predicted)"
   ]
  },
  {
   "cell_type": "code",
   "execution_count": 78,
   "id": "3f6016db-b9b1-41d7-8bd8-29b4656791ae",
   "metadata": {},
   "outputs": [
    {
     "data": {
      "text/plain": [
       "np.float64(0.3188962218391536)"
      ]
     },
     "execution_count": 78,
     "metadata": {},
     "output_type": "execute_result"
    }
   ],
   "source": [
    "from sklearn.metrics import mean_absolute_error\n",
    "mean_absolute_error(y,y_predicted)"
   ]
  },
  {
   "cell_type": "code",
   "execution_count": 79,
   "id": "64e92472-9183-4a61-9e83-d85746a392fc",
   "metadata": {
    "scrolled": true
   },
   "outputs": [
    {
     "data": {
      "text/plain": [
       "0.8280576611159286"
      ]
     },
     "execution_count": 79,
     "metadata": {},
     "output_type": "execute_result"
    }
   ],
   "source": [
    "model.score(X,y)"
   ]
  },
  {
   "cell_type": "code",
   "execution_count": null,
   "id": "758e189c-9261-4d03-a60f-61d165af488e",
   "metadata": {},
   "outputs": [],
   "source": []
  },
  {
   "cell_type": "code",
   "execution_count": null,
   "id": "3da713cf-18af-4c0e-98ef-ccd13104af30",
   "metadata": {},
   "outputs": [],
   "source": []
  },
  {
   "cell_type": "code",
   "execution_count": null,
   "id": "f775b0a2-997f-4a89-b3af-ae2adf167ce5",
   "metadata": {},
   "outputs": [],
   "source": []
  }
 ],
 "metadata": {
  "kernelspec": {
   "display_name": "Python 3 (ipykernel)",
   "language": "python",
   "name": "python3"
  },
  "language_info": {
   "codemirror_mode": {
    "name": "ipython",
    "version": 3
   },
   "file_extension": ".py",
   "mimetype": "text/x-python",
   "name": "python",
   "nbconvert_exporter": "python",
   "pygments_lexer": "ipython3",
   "version": "3.12.4"
  }
 },
 "nbformat": 4,
 "nbformat_minor": 5
}
